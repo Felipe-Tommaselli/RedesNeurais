{
 "cells": [
  {
   "cell_type": "markdown",
   "metadata": {},
   "source": [
    "# AULA 4 TEORIA- Redes Convolucionais\n",
    "\n",
    "Aula 4- Aula Assíncrona\n",
    "\n",
    "---\n",
    "\n",
    "## Redes Convolucionais (CNNs)\n",
    "\n",
    "- Camadas totalmente conectadas/densas vs Convolucionais\n",
    "- Convolução para imagens\n",
    "- Padding, Stride\n",
    "- Pooling\n",
    "\n",
    "---"
   ]
  },
  {
   "cell_type": "markdown",
   "metadata": {},
   "source": [
    "## Convolução\n",
    "\n",
    "- operador que visa realizar uma combinação linear de valores locais da entrada\n",
    "    - centrado em uma posição (x,y), gera como saída um único valor de saída\n",
    "\n",
    "* obs: na prática e nos exemplos será usada a **Correlação Cruzada** e não uma convolução na teoria, uma vez que a convolução pede um \"flip\" nos eixos do filtro, o que acaba sendo mais custoso e produz resultados semelhantes da correlação cruzada\n",
    "    * os frameworks e as técnicas atuais aplicam a correlação cruzada sob nome de convolução\n",
    "\n",
    "- <img src=\"convolucao1.jpg\" width=\"500\"> \n",
    "- <img src=\"convolucao2.jpg\" width=\"500\"> \n",
    "- 7x7 -> 5x5\n",
    "\n",
    "* E se quisermos que a entrada e saída tenha o **mesmo tamanho**? adiconamos um padding (borda) na entrada, aumentando ela em duas dimensões (1 cada lado) com uma fileira só de zeros. assim mesmo que o conteúde mude da rede, a mudança é pequena e garantimos entrada e saido de mesmo tamanho se for necessário\n",
    "    * <img src=\"padding_convoluca.jpg\" width=\"500\"> \n",
    "\n",
    "- **convolução em profundidade:** entrada com vários canais\n",
    "    - filtro k * k * p, sendo p a quantidade de canais da entrada\n",
    "    - na imagem 3 canais com 3 matrizes diferentes são usados, cada qual representando um dos canais do rgb, no fim, o resultado de cada canal é somado produzindo uma única saída\n",
    "    - <img src=\"conv_canal.jpg\" width=\"400\"> \n",
    "\n",
    "\n",
    "---"
   ]
  },
  {
   "cell_type": "markdown",
   "metadata": {},
   "source": [
    "## Camada Convolucional para redes neurais\n",
    "\n",
    "- fltro (kernel ou neuronio convolucional) w com tamanho k * k * p\n",
    "    - cada neuronio realiza a convoluçaõ da entrada e gera um volume (tensor) de saída\n",
    "\n",
    "* centrado em um pixel específico, temos: w x + b\n",
    "    * o bias é inserido depois na convolução\n",
    "\n",
    "### Mapa de ativação\n",
    "\n",
    "* o resultado da convolução é chamad de **Mapa de ativação** e sõa obtidos após a convolução com a aplicação de uma função de ativação (ex ReLU)\n",
    "    * empilhados formam um tensor d eserá a entrada da prox camada\n",
    "    * <img src=\"feature_,map.jpg\" width=\"600\"> \n",
    "\n",
    "### Como projetar uma CNN?\n",
    "\n",
    "* deve levar em conta:\n",
    "    * **tamanho da entrada** (largura, altura e profundidade)\n",
    "    * **tamanho do filtro**\n",
    "        * profundidade igual da entrada\n",
    "        * altura e largura afetam o campo receptivo local\n",
    "    * **stride** (passo nas duas direções)\n",
    "        * 1: todos pixels filtrados pelo neuronio\n",
    "        * \\> 1: salta um numero de pixels e determinada direção (convolução)\n",
    "            * saida com tamanho resuzido\n",
    "\n",
    "- stride é o passo que vc vai dar entre os pixels que vc vai chamar de central\n",
    "    - stride (2,2): varre de 2 em 2 horizontalmente até acabar, pula duas linhas verticais e continua varrendo horizontalmente\n",
    "\n",
    "\n",
    "---"
   ]
  },
  {
   "cell_type": "markdown",
   "metadata": {},
   "source": [
    "## Exemplo\n",
    "\n",
    "---"
   ]
  },
  {
   "cell_type": "markdown",
   "metadata": {},
   "source": [
    "## Número de parâmetros\n",
    "\n",
    "---"
   ]
  },
  {
   "cell_type": "markdown",
   "metadata": {},
   "source": [
    "## Pooling\n",
    "\n",
    "---"
   ]
  },
  {
   "cell_type": "markdown",
   "metadata": {},
   "source": []
  }
 ],
 "metadata": {
  "kernelspec": {
   "display_name": "Python 3.9.13 64-bit (microsoft store)",
   "language": "python",
   "name": "python3"
  },
  "language_info": {
   "name": "python",
   "version": "3.9.13"
  },
  "orig_nbformat": 4,
  "vscode": {
   "interpreter": {
    "hash": "a33b474888067a6169f866e52f630d6f3672d35114c8362b477a93e2a003ce7e"
   }
  }
 },
 "nbformat": 4,
 "nbformat_minor": 2
}
