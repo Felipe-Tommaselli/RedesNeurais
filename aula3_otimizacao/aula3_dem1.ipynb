{
 "cells": [
  {
   "cell_type": "markdown",
   "metadata": {},
   "source": [
    "# AULA 3 DEMONSTRAÇÃO 1- Introdução à Otimização para Redes Neurais\n",
    "\n",
    "Aula 2- Aula Assíncrona\n",
    "https://www.youtube.com/watch?time_continue=9&v=xkO_72hW7WY&ab_channel=MoacirAntonelliPonti\n",
    "\n",
    "---\n",
    "\n",
    "## Otimização para Redes Neurais\n",
    "\n",
    "- Implementando um modelo de perceptron com Pytorch para regressão\n",
    "\n",
    "---"
   ]
  },
  {
   "cell_type": "code",
   "execution_count": 879,
   "metadata": {},
   "outputs": [],
   "source": [
    "import torch\n",
    "import numpy as np\n",
    "import matplotlib.pyplot as plt"
   ]
  },
  {
   "cell_type": "markdown",
   "metadata": {},
   "source": [
    "- modelo da aula anterior -> completar com o que faltava para um Perceptron\n",
    "    - treianmento do perceptron basicamente\n",
    "\n",
    "* utilizamos o gradient descent normal primeiramente, sem aproveitar todo o batch ou parte dele"
   ]
  },
  {
   "cell_type": "code",
   "execution_count": 880,
   "metadata": {},
   "outputs": [],
   "source": [
    "class Perceptron():\n",
    "\n",
    "    def __init__(self, num_inputs, learning_rate = 0.01):\n",
    "        self.w = torch.normal(0, 1, (num_inputs, 1), requires_grad=True)\n",
    "        self.b = torch.zeros(1, requires_grad=True)\n",
    "        self.num_inputs = num_inputs\n",
    "        self.lr = learning_rate\n",
    "\n",
    "    def act_relu(self, x):\n",
    "        a = torch.zeros_like(x)\n",
    "        return torch.max(x, a)\n",
    "    \n",
    "    def forward(self, X):\n",
    "        # X w + b\n",
    "        linear = X @ self.w + self.b # multipliação e soma matricial\n",
    "        return self.act_relu(linear)\n",
    "\n",
    "    def squared_loss(self, y, y_hat):\n",
    "        yr = y.reshape(y_hat.shape)\n",
    "        l = (y_hat - yr)**2/2\n",
    "        return l.mean()\n",
    "\n",
    "    def backward(self, X, y):\n",
    "        y_hat = self.forward(X)\n",
    "        errors = (y.reshape(y_hat.shape) - y_hat) # diferenciação\n",
    "        return errors\n",
    "\n",
    "    def train_step(self, X, y):\n",
    "        for i in range(y.shape[0]): # roda o dataset\n",
    "            error = self.backward(x[i].reshape(1, self.num_inputs), y[i].reshape(-1))\n",
    "            # gradient descent\n",
    "            self.w = self.w + self.lr*(error * X[i]).reshape(self.num_inputs, 1)\n",
    "            self.b = self.b + self.lr*error"
   ]
  },
  {
   "cell_type": "code",
   "execution_count": 881,
   "metadata": {},
   "outputs": [
    {
     "data": {
      "text/plain": [
       "(tensor([[ 0.5929],\n",
       "         [-0.2211],\n",
       "         [ 0.4114]], requires_grad=True),\n",
       " tensor([0.], requires_grad=True),\n",
       " 0.0005)"
      ]
     },
     "execution_count": 881,
     "metadata": {},
     "output_type": "execute_result"
    }
   ],
   "source": [
    "model = Perceptron(3, learning_rate=0.0005)\n",
    "model.w, model.b, model.lr"
   ]
  },
  {
   "cell_type": "markdown",
   "metadata": {},
   "source": [
    "- a ideia é: sabemos o y de \"gabarito\" e queremos que a partir de x e do erro, o perceptron ajustes o peso e bias para chegar na saída desejada\n",
    "    - x é uma matriz 10x3 enquanto y é 1x10, ou seja, é como se cada linha de x representasse uma posição de y através de alguma aritmética que a rede vai encontrar"
   ]
  },
  {
   "cell_type": "code",
   "execution_count": 882,
   "metadata": {},
   "outputs": [
    {
     "data": {
      "text/plain": [
       "(tensor([[ 0.3315, -1.2593, -0.1489],\n",
       "         [ 0.9981,  6.4734,  4.2983],\n",
       "         [ 6.0768,  4.3787,  6.2690],\n",
       "         [ 6.6440, 11.4289, 11.7237],\n",
       "         [11.8838, 12.0881, 13.1118],\n",
       "         [13.5354, 17.4647, 19.2392],\n",
       "         [17.7318, 16.6775, 16.6952],\n",
       "         [20.5453, 21.9506, 24.6829],\n",
       "         [24.8127, 23.8495, 28.0141],\n",
       "         [26.4811, 27.5561, 27.0526]]),\n",
       " tensor([0., 1., 2., 3., 4., 5., 6., 7., 8., 9.]))"
      ]
     },
     "execution_count": 882,
     "metadata": {},
     "output_type": "execute_result"
    }
   ],
   "source": [
    "# X: 3 dimensões por instancia\n",
    "X = torch.arange(30,  dtype = torch.float32).reshape((10,3)) + torch.normal(0, 2, (10,3)) \n",
    "y =  torch.arange(10,  dtype = torch.float32)\n",
    "#* x: Entrada da rede, y: saída correta\n",
    "X, y"
   ]
  },
  {
   "cell_type": "markdown",
   "metadata": {},
   "source": [
    "* abaixo, nós usamos o passo pra frente pra a partir dos valores de inicialização, tentar chegar em y\n",
    "    * como dá pra ver, o erro foi grande, o que já era esperado para o primeiro passo pra frente\n",
    "    * o erro quadrático já sinaliza isso com valores muito maiores que 0"
   ]
  },
  {
   "cell_type": "code",
   "execution_count": 883,
   "metadata": {},
   "outputs": [
    {
     "data": {
      "text/plain": [
       "(tensor([[ 0.4137],\n",
       "         [ 0.9289],\n",
       "         [ 5.2138],\n",
       "         [ 6.2354],\n",
       "         [ 9.7674],\n",
       "         [12.0787],\n",
       "         [13.6941],\n",
       "         [17.4825],\n",
       "         [20.9632],\n",
       "         [20.7373]], grad_fn=<MaximumBackward0>),\n",
       " tensor([0., 1., 2., 3., 4., 5., 6., 7., 8., 9.]),\n",
       " tensor(28.9617, grad_fn=<MeanBackward0>))"
      ]
     },
     "execution_count": 883,
     "metadata": {},
     "output_type": "execute_result"
    }
   ],
   "source": [
    "try1 = model.forward(X)\n",
    "try1, y, model.squared_loss(y, try1) "
   ]
  },
  {
   "cell_type": "markdown",
   "metadata": {},
   "source": [
    "* \"épocas são o números de vezes que o algoritmo vai ver o conjunto de treinamento completo\""
   ]
  },
  {
   "cell_type": "code",
   "execution_count": 884,
   "metadata": {},
   "outputs": [
    {
     "name": "stdout",
     "output_type": "stream",
     "text": [
      "Parameters:  [[ 0.44854006]\n",
      " [-0.37810647]\n",
      " [ 0.23537663]] -0.012424328364431858\n",
      "Squared Loss: 0.368964\n",
      "Parameters:  [[ 0.39392006]\n",
      " [-0.2933501 ]\n",
      " [ 0.20789683]] -0.01026324275881052\n",
      "Squared Loss: 0.271401\n",
      "Parameters:  [[ 0.34848857]\n",
      " [-0.21892488]\n",
      " [ 0.18162803]] -0.009464768692851067\n",
      "Squared Loss: 0.202366\n",
      "Parameters:  [[ 0.31057188]\n",
      " [-0.15346335]\n",
      " [ 0.15664603]] -0.009739168919622898\n",
      "Squared Loss: 0.154429\n",
      "Parameters:  [[ 0.2788539 ]\n",
      " [-0.09574409]\n",
      " [ 0.13304539]] -0.010848434641957283\n",
      "Squared Loss: 0.101880\n"
     ]
    }
   ],
   "source": [
    "epochs = 100\n",
    "loss_plot = list()\n",
    "for e in range(epochs):\n",
    "    model.train_step(X,y)\n",
    "    loss = model.squared_loss(y, model.forward(X)).item()\n",
    "    loss_plot.append(loss)\n",
    "    if e % 20 == 0:\n",
    "        print('Parameters: ', model.w.detach().numpy(), model.b.item())\n",
    "        print(f'Squared Loss: {loss:.6f}')\n",
    "        "
   ]
  },
  {
   "cell_type": "code",
   "execution_count": 885,
   "metadata": {},
   "outputs": [
    {
     "data": {
      "image/png": "[encoded data removed]",
      "text/plain": [
       "<Figure size 640x480 with 1 Axes>"
      ]
     },
     "metadata": {},
     "output_type": "display_data"
    },
    {
     "data": {
      "text/plain": [
       "(tensor([[0.1142],\n",
       "         [0.4165],\n",
       "         [2.0232],\n",
       "         [2.4453],\n",
       "         [3.8978],\n",
       "         [4.7490],\n",
       "         [5.5650],\n",
       "         [6.9238],\n",
       "         [8.2889],\n",
       "         [8.4294]], grad_fn=<MaximumBackward0>),\n",
       " tensor([0., 1., 2., 3., 4., 5., 6., 7., 8., 9.]))"
      ]
     },
     "execution_count": 885,
     "metadata": {},
     "output_type": "execute_result"
    }
   ],
   "source": [
    "plt.plot(range(epochs), loss_plot)\n",
    "plt.xlabel('epochs')\n",
    "plt.ylabel('loss')\n",
    "plt.show()\n",
    "\n",
    "model.forward(X), y"
   ]
  },
  {
   "cell_type": "markdown",
   "metadata": {},
   "source": [
    "### Teste (pós treinamento)"
   ]
  },
  {
   "cell_type": "code",
   "execution_count": 886,
   "metadata": {},
   "outputs": [
    {
     "name": "stdout",
     "output_type": "stream",
     "text": [
      "tensor([[-1.9495,  0.3427,  0.9731],\n",
      "        [ 2.3190,  2.9511,  2.9079],\n",
      "        [ 5.9568,  8.3690,  3.5774],\n",
      "        [ 9.4840,  7.6404, 13.2914],\n",
      "        [11.5354,  9.3387, 11.9393]])\n",
      "tensor([0., 1., 2., 3., 4.])\n"
     ]
    }
   ],
   "source": [
    "X_t = torch.arange(15, dtype=torch.float32).reshape((5,3)) + torch.normal(0, 3, (5,3))\n",
    "print(X_t)\n",
    "y_t = torch.arange(5, dtype=torch.float32)\n",
    "print(y_t)"
   ]
  },
  {
   "cell_type": "code",
   "execution_count": 887,
   "metadata": {},
   "outputs": [
    {
     "data": {
      "text/plain": [
       "(tensor([[0.0000],\n",
       "         [0.7617],\n",
       "         [1.5034],\n",
       "         [3.5193],\n",
       "         [3.8078]], grad_fn=<MaximumBackward0>),\n",
       " tensor([0., 1., 2., 3., 4.]),\n",
       " tensor(0.0610, grad_fn=<MeanBackward0>))"
      ]
     },
     "execution_count": 887,
     "metadata": {},
     "output_type": "execute_result"
    }
   ],
   "source": [
    "model.forward(X_t),  y_t, model.squared_loss(y_t, model.forward(X_t))"
   ]
  }
 ],
 "metadata": {
  "kernelspec": {
   "display_name": "Python 3.9.13 64-bit (microsoft store)",
   "language": "python",
   "name": "python3"
  },
  "language_info": {
   "codemirror_mode": {
    "name": "ipython",
    "version": 3
   },
   "file_extension": ".py",
   "mimetype": "text/x-python",
   "name": "python",
   "nbconvert_exporter": "python",
   "pygments_lexer": "ipython3",
   "version": "3.9.13"
  },
  "orig_nbformat": 4,
  "vscode": {
   "interpreter": {
    "hash": "a33b474888067a6169f866e52f630d6f3672d35114c8362b477a93e2a003ce7e"
   }
  }
 },
 "nbformat": 4,
 "nbformat_minor": 2
}
