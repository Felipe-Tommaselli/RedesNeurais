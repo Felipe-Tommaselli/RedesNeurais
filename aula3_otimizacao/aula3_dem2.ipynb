{
 "cells": [
  {
   "cell_type": "markdown",
   "metadata": {},
   "source": [
    "# AULA 3 DEMONSTRAÇÃO 2- Introdução à Otimização para Redes Neurais\n",
    "\n",
    "Aula 2- Aula Assíncrona\n",
    "https://www.youtube.com/watch?v=O3h4kUdSV4k&t=2s&ab_channel=MoacirAntonelliPonti\n",
    "\n",
    "---\n",
    "\n",
    "## Otimização para Redes Neurais\n",
    "\n",
    "- Implementando um modelo de perceptron com Pytorch para regressão\n",
    "    - utilizando Autograd e bibliotecas prontas do PyTorch\n",
    "    \n",
    "---"
   ]
  },
  {
   "cell_type": "code",
   "execution_count": 10,
   "metadata": {},
   "outputs": [],
   "source": [
    "import torch \n",
    "from torch.autograd import grad\n",
    "import torch.nn.functional as F"
   ]
  },
  {
   "cell_type": "markdown",
   "metadata": {},
   "source": [
    "- requires_grad vai reter o valor do gradiente para ir usando "
   ]
  },
  {
   "cell_type": "code",
   "execution_count": 11,
   "metadata": {},
   "outputs": [
    {
     "name": "stdout",
     "output_type": "stream",
     "text": [
      "tensor([6.5000], grad_fn=<ReluBackward0>)\n"
     ]
    }
   ],
   "source": [
    "x = torch.tensor([5.])\n",
    "w = torch.tensor([1.2],  requires_grad=True)\n",
    "b = torch.tensor([0.5],  requires_grad=True)\n",
    "\n",
    "act = F.relu(x*w + b)\n",
    "print(act)"
   ]
  },
  {
   "cell_type": "code",
   "execution_count": 12,
   "metadata": {},
   "outputs": [
    {
     "data": {
      "text/plain": [
       "(tensor([5.]),)"
      ]
     },
     "execution_count": 12,
     "metadata": {},
     "output_type": "execute_result"
    }
   ],
   "source": [
    "grad(act, w, retain_graph=True) # valor do grafo retido"
   ]
  }
 ],
 "metadata": {
  "kernelspec": {
   "display_name": "Python 3.9.13 64-bit (microsoft store)",
   "language": "python",
   "name": "python3"
  },
  "language_info": {
   "codemirror_mode": {
    "name": "ipython",
    "version": 3
   },
   "file_extension": ".py",
   "mimetype": "text/x-python",
   "name": "python",
   "nbconvert_exporter": "python",
   "pygments_lexer": "ipython3",
   "version": "3.9.13"
  },
  "orig_nbformat": 4,
  "vscode": {
   "interpreter": {
    "hash": "a33b474888067a6169f866e52f630d6f3672d35114c8362b477a93e2a003ce7e"
   }
  }
 },
 "nbformat": 4,
 "nbformat_minor": 2
}
