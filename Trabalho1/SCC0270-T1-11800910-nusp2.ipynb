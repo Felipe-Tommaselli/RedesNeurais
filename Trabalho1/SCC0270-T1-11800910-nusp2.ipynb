{
 "cells": [
  {
   "cell_type": "markdown",
   "id": "4b0afbf6",
   "metadata": {},
   "source": [
    "# Redes Neurais e Aprendizado Profundo\n",
    "SCC0270 - 2/2022\n",
    "\n",
    "\n",
    "## Trabalho 1 - Redes Densas e Convolucionais\n",
    "\n",
    "NOME: Felipe Andrade Garcia Tommaselli \n",
    "\n",
    "NUSP: 11800910\n",
    "\n",
    "NOME: \n",
    "\n",
    "NUSP:"
   ]
  },
  {
   "cell_type": "markdown",
   "id": "69d57ec5",
   "metadata": {},
   "source": [
    "Neste trabalho você deverá implementar duas redes neurais usando Pytorch, uma utilizando camadas densas e outra utilizando camadas convolucionais. Será utilizado o dataset Fashion MNIST."
   ]
  },
  {
   "cell_type": "markdown",
   "id": "302e4495",
   "metadata": {},
   "source": [
    "### Instruções:\n",
    "\n",
    "- Preencha o nome e o número USP da dupla na célula acima;\n",
    "- Renomeie o notebook, inserindo o número USP de cada um da dupla, conforme o exemplo: \"SCC0270-T1-1234567-7654321\";\n",
    "- Neste notebook, você irá encontrar 5 exercícios, cada um deles valendo uma certa quantidade de pontos. A conclusão de todos os exercícios com sucesso valerá nota 10;\n",
    "- Responda cada exercício inserindo o código adequado para cada função.\n",
    "- Envie o notebook inteiro como entrega do exercício.\n",
    "- Certifique-se de que os códigos executam corretamente, uma vez que a nota só será atribuída caso seja possível executar o código, e ele esteja correto.\n",
    "- Fraudes ou plágio implica em nota zero e possíveis medidas administrativas.\n"
   ]
  },
  {
   "cell_type": "markdown",
   "id": "f2eb4c72",
   "metadata": {},
   "source": [
    "### Objetivos:\n",
    "\n",
    "- Compreender como o aprendizado de máquina consegue resolver problemas que métodos tradicionais de programação não conseguem\n",
    "- Aprender sobre o dataset público Fashion MNIST\n",
    "- Observar as diferenças do uso de camadas densas e convolucionais"
   ]
  },
  {
   "cell_type": "markdown",
   "id": "cadc8bd2",
   "metadata": {},
   "source": [
    "### Imports"
   ]
  },
  {
   "cell_type": "code",
   "execution_count": null,
   "id": "d6a6358b",
   "metadata": {},
   "outputs": [],
   "source": [
    "from torchvision import datasets, transforms, utils\n",
    "\n",
    "import torch\n",
    "import torch.nn as nn\n",
    "import torch.optim as optim\n",
    "import torch.nn.functional as F\n",
    "from torch.autograd import Variable\n",
    "\n",
    "import matplotlib.pyplot as plt\n",
    "import numpy as np"
   ]
  },
  {
   "cell_type": "code",
   "execution_count": null,
   "id": "7538835c",
   "metadata": {},
   "outputs": [],
   "source": [
    "# Selecionar GPU caso disponível\n",
    "device = torch.device(\"cuda:0\" if torch.cuda.is_available() else \"cpu\")\n",
    "device"
   ]
  },
  {
   "cell_type": "markdown",
   "id": "27fc071e",
   "metadata": {},
   "source": [
    "### Dataset Fashion-MNIST"
   ]
  },
  {
   "cell_type": "markdown",
   "id": "6ee649f9",
   "metadata": {},
   "source": [
    "### Dados, Anotações e Subsets\n",
    "\n",
    "- `train_set`: Imagens usadas para treinar a rede neural. Contém anotações corretas para cada imagem de `train_set`, usado para avaliar as predições do modelo durante a fase de treinamento.\n",
    "- `test_set`: Imagens usadas para avaliar o desempenho do modelo, uma vez que ele já foi treinado. Contém anotações corretas para cada imagem de `test_set`, usado para avaliar as predições do modelo durante a fase de validação\n"
   ]
  },
  {
   "cell_type": "markdown",
   "id": "a2827e94",
   "metadata": {},
   "source": [
    "### Importar dados para a memória"
   ]
  },
  {
   "cell_type": "code",
   "execution_count": null,
   "id": "a567d63e",
   "metadata": {},
   "outputs": [],
   "source": [
    "# Fazer o download dos dados\n",
    "\n",
    "train_set = datasets.FashionMNIST(\n",
    "    \"./data\", \n",
    "    download=True, \n",
    "    transform=transforms.Compose([transforms.ToTensor()])\n",
    ")\n",
    "train_loader = torch.utils.data.DataLoader(train_set, batch_size=100)\n",
    "\n",
    "test_set = datasets.FashionMNIST(\n",
    "    \"./data\", \n",
    "    download=True, \n",
    "    train=False, \n",
    "    transform=transforms.Compose([transforms.ToTensor()])\n",
    ") \n",
    "test_loader = torch.utils.data.DataLoader(test_set, batch_size=100)"
   ]
  },
  {
   "cell_type": "markdown",
   "id": "d9b6200b",
   "metadata": {},
   "source": [
    "### Explorando o dataset"
   ]
  },
  {
   "cell_type": "code",
   "execution_count": null,
   "id": "9be98bd0",
   "metadata": {},
   "outputs": [],
   "source": [
    "# Tamanho do dataset\n",
    "len(train_set)"
   ]
  },
  {
   "cell_type": "code",
   "execution_count": null,
   "id": "c00177e0",
   "metadata": {},
   "outputs": [],
   "source": [
    "# Vamos observar o que é cada loader\n",
    "example = next(iter(train_loader))\n",
    "example[0].size()"
   ]
  },
  {
   "cell_type": "code",
   "execution_count": null,
   "id": "3a096b21",
   "metadata": {},
   "outputs": [],
   "source": [
    "# Uma imagem do train_set, com sua respectiva label\n",
    "img, label = next(iter(train_set))\n",
    "plt.imshow(img.squeeze(), cmap=\"gray\")\n",
    "print(label)"
   ]
  },
  {
   "cell_type": "code",
   "execution_count": null,
   "id": "df314fc6",
   "metadata": {},
   "outputs": [],
   "source": [
    "# Função de ajuda para ler o que significa cada label\n",
    "def convert_label(label):\n",
    "    output_mapping = {\n",
    "        0: \"T-shirt/Top\",\n",
    "        1: \"Trouser\",\n",
    "        2: \"Pullover\",\n",
    "        3: \"Dress\",\n",
    "        4: \"Coat\", \n",
    "        5: \"Sandal\", \n",
    "        6: \"Shirt\",\n",
    "        7: \"Sneaker\",\n",
    "        8: \"Bag\",\n",
    "        9: \"Ankle Boot\"\n",
    "    }\n",
    "    \n",
    "    if type(label) == torch.Tensor:\n",
    "        input = label.item()  \n",
    "    else:\n",
    "        input = label\n",
    "                 \n",
    "    return output_mapping[input]"
   ]
  },
  {
   "cell_type": "code",
   "execution_count": null,
   "id": "644bacf0",
   "metadata": {},
   "outputs": [],
   "source": [
    "# Vamos observar algumas imagens do Fashion MNIST\n",
    "\n",
    "demo_loader = torch.utils.data.DataLoader(train_set, batch_size=10)\n",
    "\n",
    "batch = next(iter(demo_loader))\n",
    "images, labels = batch\n",
    "print(type(images), type(labels))\n",
    "print(images.shape, labels.shape)\n",
    "\n",
    "grid = utils.make_grid(images, nrow=10)\n",
    "\n",
    "plt.figure(figsize=(15, 20))\n",
    "plt.imshow(np.transpose(grid, (1, 2, 0)))\n",
    "print(\"labels: \", end=\" \")\n",
    "for i, label in enumerate(labels):\n",
    "    print(convert_label(label), end=\", \")"
   ]
  },
  {
   "cell_type": "markdown",
   "id": "fc89190d",
   "metadata": {},
   "source": [
    "### Exercício 1 (3 pontos)\n",
    "\n",
    "**Exercício**: Neste trabalho, será necessário implementar duas arquiteturas distintas de redes neurais. Uma vez que elas estejam implementadas, será necessário executar o laço (loop) de treinamento dos modelos por diversas épocas. Para isso, nesse primeiro exercício, crie uma função genérica, capaz de receber um modelo Pytorch e executar os passos básicos de propagação, cálculo do erro, retropropagação e atualização dos pesos. Essa função será utilizada nos exercícios seguintes para treinar os modelos por você implementados. Implemente o laço de treinamento de um modelo por num_epochs.\n",
    "\n",
    "**Instruções**:\n",
    "- Implemente os passos de propagação (forward)\n",
    "- Realize o cálculo do erro usando um critério genérico fornecido pela assinatura da função\n",
    "- Inicialize os gradientes a zero\n",
    "- Implemente o passo de retropropagação do erro (backpropagation)\n",
    "- Faça um passo de otimização\n",
    "- DICA: como essas linhas estão englobadas em uma função, utilize os argumentos da função fit(...), de forma genérica\n"
   ]
  },
  {
   "cell_type": "code",
   "execution_count": null,
   "id": "2facaa06",
   "metadata": {},
   "outputs": [],
   "source": [
    "def fit(model, criterion, optimizer, train_loader, test_loader, num_epochs=5):\n",
    "    model.to(device)\n",
    "    \n",
    "    train_losses = []\n",
    "    test_losses = []\n",
    "    \n",
    "    # Lists for visualization of loss and accuracy \n",
    "    accuracy_list = []\n",
    "\n",
    "    # Lists for knowing classwise accuracy\n",
    "    predictions_list = []\n",
    "    labels_list = []\n",
    "\n",
    "    for epoch in range(num_epochs):\n",
    "        running_loss = 0\n",
    "\n",
    "        for images, labels in train_loader:\n",
    "            # Transfering images and labels to GPU if available\n",
    "            images, labels = images.to(device), labels.to(device)\n",
    "\n",
    "            ### INÍCIO DO CÓDIGO ### (≈ 5 linhas)\n",
    "            \n",
    "            outputs = #...  # propagação\n",
    "            loss = #...  # cálculo do erro\n",
    "            #...  # inicialização dos gradiente a zero\n",
    "            #...  # retropropagação\n",
    "            #...  # otimização\n",
    "            \n",
    "            ### FIM DO CÓDIGO ###\n",
    "\n",
    "            running_loss += loss.item()\n",
    "\n",
    "        else:\n",
    "        # Testing the model\n",
    "\n",
    "            with torch.no_grad():\n",
    "                # Set the model to evaluation mode\n",
    "                model.eval()\n",
    "\n",
    "                total = 0\n",
    "                test_loss = 0\n",
    "                correct = 0\n",
    "\n",
    "                for images, labels in test_loader:\n",
    "                    images, labels = images.to(device), labels.to(device)\n",
    "                    labels_list.append(labels)\n",
    "                    total += len(labels)\n",
    "                    \n",
    "                    ### INÍCIO DO CÓDIGO ### (≈ 1 linha)\n",
    "\n",
    "                    outputs = #...\n",
    "                    \n",
    "                    ### FIM DO CÓDIGO ###\n",
    "                    \n",
    "                    predictions = torch.max(outputs, 1)[1].to(device)\n",
    "                    predictions_list.append(predictions)\n",
    "                    correct += (predictions == labels).sum()\n",
    "\n",
    "                    test_loss += criterion(outputs, labels).item()\n",
    "                test_losses.append(test_loss/len(test_loader))\n",
    "\n",
    "                accuracy = correct * 100 / total\n",
    "                accuracy_list.append(accuracy.item())\n",
    "            \n",
    "\n",
    "            # Set the model to training mode\n",
    "            model.train()\n",
    "        \n",
    "        train_losses.append(running_loss/len(train_loader))\n",
    "\n",
    "        print(f'Epoch {epoch+1}/{num_epochs} .. Train Loss: {train_losses[-1]:.5f} .. Test Loss: {test_losses[-1]:.5f} .. Test Accuracy: {accuracy_list[-1]:.3f}%')\n",
    "\n",
    "            \n",
    "    results = {\n",
    "        'train_losses': train_losses,\n",
    "        'test_losses': test_losses,\n",
    "        'accuracy_list': accuracy_list\n",
    "    }\n",
    "    \n",
    "    return results"
   ]
  },
  {
   "cell_type": "markdown",
   "id": "889cbf8e",
   "metadata": {},
   "source": [
    "### Exercício 2 - Camadas Densas (2 pontos)\n",
    "\n",
    "**Exercício 2.A**: Implemente uma rede neural, usando camadas densas (fully connected), capaz de classificar as imagens do dataset Fashion MNIST. Descreva e justifique a escolha dos parâmetros e das camadas.\n",
    "\n",
    "**Instruções**:\n",
    "- Inicialize a superclasse\n",
    "- Crie o projeto da rede neural usando camadas densas\n",
    "- Implemente o passo de propagação\n",
    "- Insira uma célula de texto, ou comentários ao longo do código com a justificativa"
   ]
  },
  {
   "cell_type": "code",
   "execution_count": null,
   "id": "444c110e",
   "metadata": {},
   "outputs": [],
   "source": [
    "class NetworkDense(nn.Module):\n",
    "\n",
    "    def __init__(self):\n",
    "        \n",
    "        ### INÍCIO DO CÓDIGO ### (≈ 5 linhas)\n",
    "\n",
    "        self.fc1 = # ...\n",
    "        # ...\n",
    "        \n",
    "        ### FIM DO CÓDIGO ###\n",
    "     \n",
    "    def forward(self, x):\n",
    "        \n",
    "        ### INÍCIO DO CÓDIGO ### (≈ 5 linhas)\n",
    "        \n",
    "        x = # ...\n",
    "        # ...\n",
    "\n",
    "        ### FIM DO CÓDIGO ###\n",
    "        \n",
    "        return x\n"
   ]
  },
  {
   "cell_type": "code",
   "execution_count": null,
   "id": "d9816ce8",
   "metadata": {},
   "outputs": [],
   "source": [
    "# Justifique a escolha da arquitetura"
   ]
  },
  {
   "cell_type": "markdown",
   "id": "6099498b",
   "metadata": {},
   "source": [
    "**Exercício 2.B**: Utilizando a classe `NetworkDense` implementada anteriormente, inicialize o modelo, defina uma função para loss, o otimizador, e a learning rate desejados. Depois, treine o modelo por algumas épocas."
   ]
  },
  {
   "cell_type": "code",
   "execution_count": null,
   "id": "2eba9050",
   "metadata": {
    "scrolled": true
   },
   "outputs": [],
   "source": [
    "### INÍCIO DO CÓDIGO ### (≈ 4 linhas)\n",
    "model_dense = # ...\n",
    "criterion = # ...\n",
    "learning_rate = # ...\n",
    "optimizer = # ...\n",
    "### FIM DO CÓDIGO ###\n",
    "\n",
    "print(model_dense)"
   ]
  },
  {
   "cell_type": "code",
   "execution_count": null,
   "id": "0d77c184",
   "metadata": {
    "scrolled": true
   },
   "outputs": [],
   "source": [
    "### INÍCIO DO CÓDIGO ### (≈ 1 linha)\n",
    "den_results = fit(# ...\n",
    "### FIM DO CÓDIGO ###"
   ]
  },
  {
   "cell_type": "markdown",
   "id": "41b4c0e9",
   "metadata": {},
   "source": [
    "### Exercício 3  - Camadas Convolucionais (2 pontos)\n",
    "\n",
    "**Exercício 3.A**: Implemente uma rede neural, usando camadas convolucionais (Conv2d), capaz de classificar as imagens do dataset Fashion MNIST. Descreva e justifique a escolha dos parâmetros e das camadas.\n",
    "\n",
    "**Instruções**:\n",
    "- Inicialize a superclasse\n",
    "- Crie o projeto da rede neural usando camadas convolucionais\n",
    "- Implemente o passo de propagação\n",
    "- Insira uma célula de texto, ou comentários ao longo do código com a justificativa"
   ]
  },
  {
   "cell_type": "code",
   "execution_count": null,
   "id": "91e66f05",
   "metadata": {},
   "outputs": [],
   "source": [
    "class NetworkCNN(nn.Module):\n",
    "    \n",
    "    def __init__(self):\n",
    "        ### INÍCIO DO CÓDIGO ### \n",
    "\n",
    "        self.layer1 = # ......... Insira seu código aqui\n",
    "\n",
    "        ### FIM DO CÓDIGO ###\n",
    "        \n",
    "        \n",
    "    def forward(self, x):\n",
    "        \n",
    "        ### INÍCIO DO CÓDIGO ### \n",
    "        \n",
    "        x = # ......... Insira seu código aqui\n",
    "        \n",
    "        ### FIM DO CÓDIGO ###\n",
    "        \n",
    "        return x"
   ]
  },
  {
   "cell_type": "code",
   "execution_count": null,
   "id": "a6952e4e",
   "metadata": {},
   "outputs": [],
   "source": [
    "# Justifique a escolha da arquitetura"
   ]
  },
  {
   "cell_type": "markdown",
   "id": "b98c48dc",
   "metadata": {},
   "source": [
    "**Exercício 3.B**: Utilizando a classe `NetworkCNN` implementada anteriormente, inicialize o modelo, defina uma função para loss, o otimizador, e a learning rate desejados. Depois, treine o modelo por algumas épocas."
   ]
  },
  {
   "cell_type": "code",
   "execution_count": null,
   "id": "58287f52",
   "metadata": {},
   "outputs": [],
   "source": [
    "### INÍCIO DO CÓDIGO ### (≈ 4 linhas)\n",
    "model_cnn = # ...\n",
    "criterion = # ...\n",
    "learning_rate = # ...\n",
    "optimizer = # ...\n",
    "### FIM DO CÓDIGO ###\n",
    "\n",
    "print(model_cnn)"
   ]
  },
  {
   "cell_type": "code",
   "execution_count": null,
   "id": "0b240e9c",
   "metadata": {},
   "outputs": [],
   "source": [
    "### INÍCIO DO CÓDIGO ### (≈ 1 linha)\n",
    "cnn_results = fit(#...\n",
    "### FIM DO CÓDIGO ###"
   ]
  },
  {
   "cell_type": "markdown",
   "id": "d8f10449",
   "metadata": {},
   "source": [
    "### Exercício 4  - Quantidade de parâmetros treináveis (1 ponto)\n",
    "\n",
    "**Exercício**: Quantos parâmetros treináveis cada um dos modelos desenvolvidos possui? Justifique. Informe os valores para `model_dense` e `model_cnn`."
   ]
  },
  {
   "cell_type": "markdown",
   "id": "87df2a6a",
   "metadata": {},
   "source": [
    "(Escreva sua resposta)"
   ]
  },
  {
   "cell_type": "markdown",
   "id": "5b23ef3b",
   "metadata": {},
   "source": [
    "### Exercício 5 - Comparação de Resultados (2 pontos)\n",
    "\n",
    "**Exercício**: Compare as métricas de acurácia dos dois modelos desenvolvidos. Qual dos dois obteve melhores resultados?  Por quê? Qual característica das redes que justificam seu desempenho?\n",
    "\n",
    "Utilize o gráfico para auxiliar na análise. Insira uma célula de texto com a sua resposta"
   ]
  },
  {
   "cell_type": "code",
   "execution_count": null,
   "id": "82a9a2fe",
   "metadata": {},
   "outputs": [],
   "source": [
    "### INÍCIO DO CÓDIGO ### (≈ 2 linhas)\n",
    "plt.plot(cnn_results[#...insira seu codigo...#], label='CNN')\n",
    "plt.plot(den_results[#...insira seu codigo...#], label='Dense')\n",
    "### FIM DO CÓDIGO ###\n",
    "\n",
    "plt.legend(frameon=False)\n",
    "plt.xlabel(\"Epoch\")\n",
    "plt.ylabel(\"Accuracy\")\n",
    "plt.title(\"Accuracy\")\n",
    "plt.show()"
   ]
  },
  {
   "cell_type": "markdown",
   "id": "453a0b7f",
   "metadata": {},
   "source": [
    "(Escreva sua resposta)"
   ]
  },
  {
   "cell_type": "markdown",
   "id": "5040a0be",
   "metadata": {},
   "source": [
    "### Indo além... - Comparação de Resultados (sem ponto)\n",
    "\n",
    "É possível plotar o gráfico de loss do treino e da validação para cada um dos modelos. Observe como os erros se comportam de maneira diferente para cada um dos subsets."
   ]
  },
  {
   "cell_type": "code",
   "execution_count": null,
   "id": "98b72e6a",
   "metadata": {},
   "outputs": [],
   "source": [
    "plt.plot(cnn_results['train_losses'], label='Training loss')\n",
    "plt.plot(cnn_results['test_losses'], label='Validation loss')\n",
    "\n",
    "plt.legend(frameon=False)\n",
    "plt.xlabel(\"Epoch\")\n",
    "plt.ylabel(\"Loss\")\n",
    "plt.title(\"Loss\")\n",
    "plt.show()"
   ]
  },
  {
   "cell_type": "code",
   "execution_count": null,
   "id": "71da0c86",
   "metadata": {},
   "outputs": [],
   "source": [
    "plt.plot(den_results['train_losses'], label='Training loss')\n",
    "plt.plot(den_results['test_losses'], label='Validation loss')\n",
    "\n",
    "plt.legend(frameon=False)\n",
    "plt.xlabel(\"Epoch\")\n",
    "plt.ylabel(\"Loss\")\n",
    "plt.title(\"Loss\")\n",
    "plt.show()"
   ]
  },
  {
   "cell_type": "code",
   "execution_count": null,
   "id": "8176bf25",
   "metadata": {},
   "outputs": [],
   "source": []
  }
 ],
 "metadata": {
  "kernelspec": {
   "display_name": "Python 3 (ipykernel)",
   "language": "python",
   "name": "python3"
  },
  "language_info": {
   "codemirror_mode": {
    "name": "ipython",
    "version": 3
   },
   "file_extension": ".py",
   "mimetype": "text/x-python",
   "name": "python",
   "nbconvert_exporter": "python",
   "pygments_lexer": "ipython3",
   "version": "3.8.13"
  },
  "toc": {
   "base_numbering": 1,
   "nav_menu": {},
   "number_sections": false,
   "sideBar": false,
   "skip_h1_title": false,
   "title_cell": "Table of Contents",
   "title_sidebar": "Contents",
   "toc_cell": false,
   "toc_position": {},
   "toc_section_display": false,
   "toc_window_display": false
  }
 },
 "nbformat": 4,
 "nbformat_minor": 5
}
