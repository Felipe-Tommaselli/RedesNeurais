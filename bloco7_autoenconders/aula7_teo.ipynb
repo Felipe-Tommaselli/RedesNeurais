{
 "cells": [
  {
   "cell_type": "markdown",
   "metadata": {},
   "source": [
    "# AULA 7 TEORIA- Auto-enconders\n",
    "\n",
    "Semana 10-14/10 - Aula assíncrona\n",
    "\n",
    "Auto-encoder e tarefa de reconstrução\n",
    "Denoising Autoencoders\n",
    "Variational Autoencoders\n",
    "\n",
    "---\n",
    "\n",
    "## Regularização, Normalização e Transferência de Aprendizado\n",
    "\n",
    "- Autoenconders\n",
    "- Undercomplete\n",
    "- Overcomplete\n",
    "- Denoising Autoencoders\n",
    "\n",
    "---"
   ]
  },
  {
   "cell_type": "markdown",
   "metadata": {},
   "source": [
    "## Autoencoders\n",
    "\n",
    "\n",
    "\n",
    "---"
   ]
  }
 ],
 "metadata": {
  "kernelspec": {
   "display_name": "Python 3.8.10 64-bit",
   "language": "python",
   "name": "python3"
  },
  "language_info": {
   "name": "python",
   "version": "3.8.10"
  },
  "orig_nbformat": 4,
  "vscode": {
   "interpreter": {
    "hash": "916dbcbb3f70747c44a77c7bcd40155683ae19c65e1c03b4aa3499c5328201f1"
   }
  }
 },
 "nbformat": 4,
 "nbformat_minor": 2
}
