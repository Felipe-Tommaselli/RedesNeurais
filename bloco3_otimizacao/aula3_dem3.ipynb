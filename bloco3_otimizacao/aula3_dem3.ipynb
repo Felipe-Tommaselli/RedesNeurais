{
 "cells": [
  {
   "cell_type": "markdown",
   "metadata": {},
   "source": [
    "# AULA 3 DEMONSTRAÇÃO 3- Introdução à Otimização para Redes Neurais\n",
    "\n",
    "Aula 3- Aula Assíncrona\n",
    "https://www.youtube.com/watch?v=O3h4kUdSV4k&t=2s&ab_channel=MoacirAntonelliPonti\n",
    "\n",
    "---\n",
    "\n",
    "## Otimização para Redes Neurais\n",
    "\n",
    "- Redes Densas em pytorch e detalhes:\n",
    "    - camadas pré-implementadas\n",
    "    - opções para acessar parametros\n",
    "    - uso do gradiente\n",
    "    - backpropagation e algoritmos de otimização\n",
    "    \n",
    "---"
   ]
  },
  {
   "cell_type": "code",
   "execution_count": 68,
   "metadata": {},
   "outputs": [],
   "source": [
    "import torch \n",
    "import torch.nn as nn\n",
    "import torch.nn.functional as F"
   ]
  },
  {
   "cell_type": "markdown",
   "metadata": {},
   "source": [
    "### Projeto Rede Densa\n",
    "\n",
    "- exemplo da aula teórica\n",
    "    - entrada: imagens 28x28 pixels\n",
    "    - saída: 10 classes (dígitos de 0 a 9)"
   ]
  },
  {
   "cell_type": "code",
   "execution_count": 69,
   "metadata": {},
   "outputs": [],
   "source": [
    "class Network(nn.Module): # herda uma classe com diversos parametros incapsulados\n",
    "\n",
    "    def __init__(self):\n",
    "        # inicia conforme a superclasse nn.Module\n",
    "        super(Network, self).__init__()\n",
    "        # cria o projeto da rede neural\n",
    "        # duas camadas Fully Connected, fc1 = hidden e fc2 = final\n",
    "        self.fc1 = nn.Linear(784, 32) # entrada = 784, saída = 32\n",
    "        self.fc2 = nn.Linear(32, 10)\n",
    "\n",
    "    def forward(self, x):\n",
    "        # achatar todas as camadas, exceto uma\n",
    "        x = torch.flatten(x, 1) # recebe minibatches\n",
    "        x = F.relu(self.fc1(x)) # camada densa + relu\n",
    "        x = self.fc2(x) # camada densa linear (sem softmax por enquanto)\n",
    "        return x"
   ]
  },
  {
   "cell_type": "code",
   "execution_count": 70,
   "metadata": {},
   "outputs": [
    {
     "data": {
      "text/plain": [
       "Network(\n",
       "  (fc1): Linear(in_features=784, out_features=32, bias=True)\n",
       "  (fc2): Linear(in_features=32, out_features=10, bias=True)\n",
       ")"
      ]
     },
     "execution_count": 70,
     "metadata": {},
     "output_type": "execute_result"
    }
   ],
   "source": [
    "net = Network()\n",
    "net"
   ]
  },
  {
   "cell_type": "code",
   "execution_count": 71,
   "metadata": {},
   "outputs": [
    {
     "data": {
      "text/plain": [
       "tensor([[-0.1218, -0.2955,  0.1731,  0.3342, -0.1597,  0.1669, -0.6116,  0.2721,\n",
       "          0.5229,  0.0752]], grad_fn=<AddmmBackward0>)"
      ]
     },
     "execution_count": 71,
     "metadata": {},
     "output_type": "execute_result"
    }
   ],
   "source": [
    "input_random = torch.randn(1, 1, 28, 28) # 1 batche com 1 canal de cor 28x28 = imagem aleatoria\n",
    "\n",
    "output = net(input_random)\n",
    "output"
   ]
  },
  {
   "cell_type": "markdown",
   "metadata": {},
   "source": [
    "- acessando os parametros da rede"
   ]
  },
  {
   "cell_type": "code",
   "execution_count": 72,
   "metadata": {},
   "outputs": [
    {
     "name": "stdout",
     "output_type": "stream",
     "text": [
      "4\n",
      "torch.Size([32, 784])\n",
      "Parameter containing:\n",
      "tensor([[-0.0025,  0.0247, -0.0167,  ..., -0.0240,  0.0194,  0.0100],\n",
      "        [-0.0108,  0.0128, -0.0150,  ...,  0.0055,  0.0135,  0.0044],\n",
      "        [ 0.0297,  0.0067, -0.0187,  ..., -0.0187,  0.0133, -0.0235],\n",
      "        ...,\n",
      "        [-0.0221,  0.0147,  0.0319,  ..., -0.0031, -0.0312,  0.0209],\n",
      "        [-0.0303,  0.0185, -0.0327,  ..., -0.0153, -0.0073,  0.0348],\n",
      "        [-0.0027,  0.0277,  0.0099,  ..., -0.0025, -0.0236, -0.0162]],\n",
      "       requires_grad=True)\n"
     ]
    }
   ],
   "source": [
    "params = list(net.parameters())\n",
    "print(len(params))\n",
    "# primeira camada\n",
    "print(params[0].size())\n",
    "print(params[0])"
   ]
  },
  {
   "cell_type": "markdown",
   "metadata": {},
   "source": [
    "### Backpropagation\n",
    "\n",
    "* já está pronto: `backward`"
   ]
  },
  {
   "cell_type": "code",
   "execution_count": 73,
   "metadata": {},
   "outputs": [],
   "source": [
    "# zerar o buffer de gradientes\n",
    "net.zero_grad()\n",
    "output.backward(torch.randn(1,10)) # aleatorio ´so para exemplo"
   ]
  },
  {
   "cell_type": "markdown",
   "metadata": {},
   "source": [
    "### Rede operando"
   ]
  },
  {
   "cell_type": "code",
   "execution_count": 74,
   "metadata": {},
   "outputs": [
    {
     "name": "stdout",
     "output_type": "stream",
     "text": [
      "tensor([-1.5134,  0.1599,  1.6754,  0.0374, -1.7905,  1.2918,  0.6488,  1.4015,\n",
      "         1.1718, -0.6582])\n",
      "tensor([[-1.5134,  0.1599,  1.6754,  0.0374, -1.7905,  1.2918,  0.6488,  1.4015,\n",
      "          1.1718, -0.6582]])\n",
      "tensor(1.2237, grad_fn=<MseLossBackward0>)\n"
     ]
    }
   ],
   "source": [
    "output = net(input_random)\n",
    "target = torch.randn(10) # target aleatorio como exemplo\n",
    "print(target)\n",
    "target = target.view(1, -1) # um elemento em uma dimensão e oresto em outra\n",
    "print(target)\n",
    "\n",
    "criterion = nn.MSELoss() # mean sqaured error\n",
    "loss = criterion(output, target)\n",
    "print(loss)"
   ]
  },
  {
   "cell_type": "markdown",
   "metadata": {},
   "source": [
    "### Backpropagation com `backward`"
   ]
  },
  {
   "cell_type": "code",
   "execution_count": 75,
   "metadata": {},
   "outputs": [
    {
     "name": "stdout",
     "output_type": "stream",
     "text": [
      "antes tensor([0., 0., 0., 0., 0., 0., 0., 0., 0., 0., 0., 0., 0., 0., 0., 0., 0., 0., 0., 0., 0., 0., 0., 0.,\n",
      "        0., 0., 0., 0., 0., 0., 0., 0.])\n",
      "depois tensor([-0.0395,  0.0000,  0.0000, -0.0856,  0.0000,  0.0000, -0.0344,  0.0000,\n",
      "         0.0928,  0.0349, -0.0931, -0.0774,  0.0789,  0.0000, -0.0480,  0.0000,\n",
      "         0.0000,  0.0000,  0.0000, -0.0660, -0.0531,  0.0000,  0.0445, -0.0205,\n",
      "        -0.0853, -0.1023,  0.0000,  0.0136,  0.0000,  0.0000,  0.0000,  0.0074])\n"
     ]
    }
   ],
   "source": [
    "net.zero_grad()\n",
    "# antes\n",
    "print('antes', net.fc1.bias.grad)\n",
    "\n",
    "loss.backward()\n",
    "print('depois', net.fc1.bias.grad)"
   ]
  },
  {
   "cell_type": "markdown",
   "metadata": {},
   "source": [
    "### Otimizadores\n",
    "\n",
    "- adaptacao dos parametros da rede\n",
    "    - otimziador: SGD, Adam, etc"
   ]
  },
  {
   "cell_type": "code",
   "execution_count": 76,
   "metadata": {},
   "outputs": [
    {
     "name": "stdout",
     "output_type": "stream",
     "text": [
      "tensor([-0.0025,  0.0247, -0.0167,  0.0242, -0.0306, -0.0105, -0.0202,  0.0215,\n",
      "        -0.0039, -0.0324], grad_fn=<SliceBackward0>)\n"
     ]
    }
   ],
   "source": [
    "print(params[0][0][:10])"
   ]
  },
  {
   "cell_type": "code",
   "execution_count": 77,
   "metadata": {},
   "outputs": [],
   "source": [
    "import torch.optim as optim\n",
    "\n",
    "# objeto otimizador\n",
    "optimizer = optim.SGD(net.parameters(), lr=0.01)\n",
    "\n",
    "# para cada loop de treinamento\n",
    "\n",
    "# zerar o buffer dos grads\n",
    "optimizer.zero_grad()\n",
    "# gerar a saida e computar gradientes com relacao a func de perda\n",
    "output = net(input_random)\n",
    "loss = criterion(output, target)\n",
    "loss.backward()\n",
    "# adaptar pesos\n",
    "optimizer.step()"
   ]
  },
  {
   "cell_type": "code",
   "execution_count": 78,
   "metadata": {},
   "outputs": [
    {
     "name": "stdout",
     "output_type": "stream",
     "text": [
      "tensor([-0.0015,  0.0250, -0.0165,  0.0241, -0.0309, -0.0103, -0.0197,  0.0212,\n",
      "        -0.0040, -0.0312], grad_fn=<SliceBackward0>)\n"
     ]
    }
   ],
   "source": [
    "print(params[0][0][:10])"
   ]
  }
 ],
 "metadata": {
  "kernelspec": {
   "display_name": "Python 3.9.13 64-bit (microsoft store)",
   "language": "python",
   "name": "python3"
  },
  "language_info": {
   "codemirror_mode": {
    "name": "ipython",
    "version": 3
   },
   "file_extension": ".py",
   "mimetype": "text/x-python",
   "name": "python",
   "nbconvert_exporter": "python",
   "pygments_lexer": "ipython3",
   "version": "3.9.13"
  },
  "orig_nbformat": 4,
  "vscode": {
   "interpreter": {
    "hash": "a33b474888067a6169f866e52f630d6f3672d35114c8362b477a93e2a003ce7e"
   }
  }
 },
 "nbformat": 4,
 "nbformat_minor": 2
}
