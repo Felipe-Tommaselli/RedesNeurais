{
 "cells": [
  {
   "cell_type": "markdown",
   "metadata": {},
   "source": [
    "# AULA 11 TEORIA- Arquitetura Transformer\n",
    "\n",
    "16/11 - Aula assíncrona\n",
    "> https://www.youtube.com/watch?v=ksseZzTegWk&ab_channel=MoacirAntonelliPonti\n",
    "\n",
    "\n",
    "- Arquitetura Transformer\n",
    "\n",
    "---\n",
    "\n",
    "## Transformer Networks\n",
    "\n",
    "- Arquitetura Transformer\n",
    "\n",
    "---"
   ]
  },
  {
   "cell_type": "markdown",
   "metadata": {},
   "source": [
    "## Transformer Networks\n",
    "\n",
    "### RNN vs Transforme Nets\n",
    "\n",
    "*  RNNs\n",
    "    * podem não funcionar com **dependencias longas**\n",
    "    * recorrencia dificulta **computação paralela** (pontos da sequencia não podem ser porcessadas em paralelo)\n",
    "    * podem sofrer com exlosão ou desaparecimento de gradiente\n",
    "\n",
    "- Transformer Networks\n",
    "    - não tem recorrência (apenas atenção)\n",
    "    - captura dependencias longas \n",
    "    - processamento paralelo: atençaõ é invariante a permutação\n",
    "\n",
    "### Arquitetura\n",
    "\n",
    "- arquitetura\n",
    "    - <img src=\"arq_TransfNEt.jpg\" width=300>\n",
    "    - explicação na aula\n",
    "    - diferencial: **POsitional Encoding** e **Multi-Head Attention**\n",
    "\n",
    "* Multi-Head Attention (atenção)\n",
    "    - <img src=\"arq_atencao.jpg\" width=450>\n",
    "    - não só mais a combinação linear de todos elementos de entrada\n",
    "    - <img src=\"atencao.jpg\" width=450>\n",
    "    - Recuperar um valor vi para uma consulta/query q baseada numa chave/key ki\n",
    "    - A similaridade entre uma consulta e todas as chaves, ponderadas pelos valores\n",
    "    - Somar ao longo de todas as chaves/valores, produz uma distribuição de pesos relacionando consulta e todos os valores\n",
    "    - <img src=\"atencao2.jpg\" width=450>"
   ]
  }
 ],
 "metadata": {
  "kernelspec": {
   "display_name": "Python 3.9.13 64-bit (microsoft store)",
   "language": "python",
   "name": "python3"
  },
  "language_info": {
   "name": "python",
   "version": "3.9.13"
  },
  "orig_nbformat": 4,
  "vscode": {
   "interpreter": {
    "hash": "a33b474888067a6169f866e52f630d6f3672d35114c8362b477a93e2a003ce7e"
   }
  }
 },
 "nbformat": 4,
 "nbformat_minor": 2
}
